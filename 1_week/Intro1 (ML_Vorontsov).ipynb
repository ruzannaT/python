{
 "cells": [
  {
   "cell_type": "code",
   "execution_count": 1,
   "metadata": {
    "collapsed": true
   },
   "outputs": [],
   "source": [
    "import numpy as np"
   ]
  },
  {
   "cell_type": "code",
   "execution_count": 2,
   "metadata": {},
   "outputs": [
    {
     "name": "stdout",
     "output_type": "stream",
     "text": [
      "[[ -0.16016247   3.97247831 -19.04036352 ..., -15.79545227   2.52166284\n",
      "    5.23382858]\n",
      " [ 17.10478399  15.87875009 -13.44899792 ...,  -1.92168737   8.97622068\n",
      "    1.32175055]\n",
      " [-17.92731037 -17.12893664 -14.58546335 ...,  19.68714199  -1.45501053\n",
      "   10.5195035 ]\n",
      " ..., \n",
      " [ 20.49714611  14.22497665   3.12449152 ..., -10.10722991 -10.06045517\n",
      "   -0.32581488]\n",
      " [ -3.5092209   -3.75002189  -0.70210986 ...,   2.01962843  -2.41227437\n",
      "   12.20711118]\n",
      " [  8.34973905  -0.40528144  -9.18163452 ...,   8.69123846 -10.72365733\n",
      "    4.08188828]]\n"
     ]
    }
   ],
   "source": [
    "X = np.random.normal(loc=1, scale=10, size=(1000, 50))\n",
    "print X\n"
   ]
  },
  {
   "cell_type": "code",
   "execution_count": 4,
   "metadata": {},
   "outputs": [
    {
     "name": "stdout",
     "output_type": "stream",
     "text": [
      "[[ 0.32264764 -2.87350092  1.2602273  ..., -0.54422693 -0.48207419\n",
      "   2.13094163]\n",
      " [ 0.63512489  0.67659418  1.08952753 ..., -0.56387355  0.45107432\n",
      "  -0.20647778]\n",
      " [ 0.93464686  0.03229312  0.53013914 ...,  1.13581853 -0.17630005\n",
      "   1.10588907]\n",
      " ..., \n",
      " [-0.91998349 -0.42948111 -0.45892035 ...,  0.1879117   1.50657369\n",
      "   0.29676852]\n",
      " [ 2.32560978 -1.28251428 -0.2453745  ...,  0.51596595 -0.49087114\n",
      "  -0.60338147]\n",
      " [-0.17011165  1.76743988  0.65495935 ..., -0.0869333   0.61544193\n",
      "  -1.60496677]]\n"
     ]
    }
   ],
   "source": [
    "m = np.mean(X, axis=0)\n",
    "std = np.std(X, axis=0)\n",
    "X_norm = ((X - m)  / std)\n",
    "print X_norm"
   ]
  },
  {
   "cell_type": "code",
   "execution_count": 41,
   "metadata": {},
   "outputs": [
    {
     "name": "stdout",
     "output_type": "stream",
     "text": [
      "(array([1, 4, 5]),)\n"
     ]
    }
   ],
   "source": [
    "Z = np.array([[4, 5, 0], \n",
    "             [1, 9, 3],              \n",
    "             [5, 1, 1],\n",
    "             [3, 3, 3], \n",
    "             [9, 9, 9], \n",
    "             [4, 7, 1]])\n",
    "\n",
    "r = np.sum(Z, axis=1)\n",
    "print np.nonzero(r > 10)"
   ]
  },
  {
   "cell_type": "code",
   "execution_count": 46,
   "metadata": {},
   "outputs": [
    {
     "name": "stdout",
     "output_type": "stream",
     "text": [
      "[[ 1.  0.  0.]\n",
      " [ 0.  1.  0.]\n",
      " [ 0.  0.  1.]]\n",
      "[[ 1.  0.  0.]\n",
      " [ 0.  1.  0.]\n",
      " [ 0.  0.  1.]]\n",
      "[[ 1.  0.  0.  1.  0.  0.]\n",
      " [ 0.  1.  0.  0.  1.  0.]\n",
      " [ 0.  0.  1.  0.  0.  1.]]\n"
     ]
    }
   ],
   "source": [
    "#generate identity matrix 3*3 and merge them into 6*3\n",
    "A = np.eye(3)\n",
    "B = np.eye(3)\n",
    "print A\n",
    "print B\n",
    "\n",
    "C = np.hstack((A, B))\n",
    "print C"
   ]
  },
  {
   "cell_type": "code",
   "execution_count": null,
   "metadata": {
    "collapsed": true
   },
   "outputs": [],
   "source": []
  }
 ],
 "metadata": {
  "kernelspec": {
   "display_name": "Python 2",
   "language": "python",
   "name": "python2"
  },
  "language_info": {
   "codemirror_mode": {
    "name": "ipython",
    "version": 2
   },
   "file_extension": ".py",
   "mimetype": "text/x-python",
   "name": "python",
   "nbconvert_exporter": "python",
   "pygments_lexer": "ipython2",
   "version": "2.7.13"
  }
 },
 "nbformat": 4,
 "nbformat_minor": 2
}
